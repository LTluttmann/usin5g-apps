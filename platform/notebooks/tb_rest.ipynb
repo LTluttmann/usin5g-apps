{
 "cells": [
  {
   "cell_type": "markdown",
   "id": "b0f27f4a",
   "metadata": {},
   "source": [
    "# Demonstration of Python REST API for Thingsboard\n",
    "\n",
    "This little demo shows the basic functionalities provided by the thingsboard REST Api. We can use it to \n",
    "\n",
    "- create / delete users\n",
    "- fetch latest telemetry\n",
    "- update dashboards\n",
    "- etc..."
   ]
  },
  {
   "cell_type": "code",
   "execution_count": 47,
   "id": "6e3d1d19",
   "metadata": {},
   "outputs": [],
   "source": [
    "import logging\n",
    "from json import load\n",
    "# Importing models and REST client class from Professional Edition version\n",
    "from tb_rest_client.rest_client_pe import *\n",
    "from tb_rest_client.rest import ApiException\n",
    "from datetime import datetime\n",
    "\n",
    "\n",
    "def format_datetime(dt_obj: datetime):\n",
    "    y,m,d,h,minu, *_ = dt_obj.timetuple()\n",
    "    return \"%s-%s-%s  %s:%s\" % (y,m,d,h,minu)\n",
    "\n",
    "logging.basicConfig(level=logging.DEBUG,\n",
    "                    format='%(asctime)s - %(levelname)s - %(module)s - %(lineno)d - %(message)s',\n",
    "                    datefmt='%Y-%m-%d %H:%M:%S')\n",
    "\n",
    "\n",
    "# ThingsBoard REST API URL\n",
    "url = ...\n",
    "LEUPHANA_TENANT_ID = ...\n",
    "TEST_DEVICE_ID = ...\n",
    "ROBO_TOKEN = ..."
   ]
  },
  {
   "cell_type": "code",
   "execution_count": 48,
   "id": "e5462474",
   "metadata": {},
   "outputs": [],
   "source": [
    "with open(\"secrets.json\", \"r\") as user_file:\n",
    "    user = load(user_file)"
   ]
  },
  {
   "cell_type": "code",
   "execution_count": 49,
   "id": "f3432e66",
   "metadata": {},
   "outputs": [],
   "source": [
    "admin = user[\"admin\"]\n",
    "tenant = user[\"tenant\"]"
   ]
  },
  {
   "cell_type": "markdown",
   "id": "4b8a28b3",
   "metadata": {},
   "source": [
    "## Initialize REST Client"
   ]
  },
  {
   "cell_type": "code",
   "execution_count": 50,
   "id": "47ab4f5a",
   "metadata": {},
   "outputs": [
    {
     "name": "stdout",
     "output_type": "stream",
     "text": [
      "User is of type SYS_ADMIN\n"
     ]
    }
   ],
   "source": [
    "admin_client = RestClientPE(base_url=url)\n",
    "admin_client.login(username=admin[\"mail\"], password=admin[\"pw\"])\n",
    "print(\"User is of type %s\" % admin_client.get_user().authority)"
   ]
  },
  {
   "cell_type": "code",
   "execution_count": 51,
   "id": "1e1d74b2",
   "metadata": {},
   "outputs": [
    {
     "name": "stdout",
     "output_type": "stream",
     "text": [
      "User is of type TENANT_ADMIN\n"
     ]
    }
   ],
   "source": [
    "tenant_client = RestClientPE(base_url=url)\n",
    "tenant_client.login(username=tenant[\"mail\"], password=tenant[\"pw\"])\n",
    "print(\"User is of type %s\" % tenant_client.get_user().authority)"
   ]
  },
  {
   "cell_type": "markdown",
   "id": "63fcb2fb",
   "metadata": {},
   "source": [
    "### Get names of all Leuphana Admin Users"
   ]
  },
  {
   "cell_type": "code",
   "execution_count": 52,
   "id": "815f4a9d",
   "metadata": {},
   "outputs": [
    {
     "data": {
      "text/plain": [
       "['Laurin', 'Kenneth', 'Ole Christian']"
      ]
     },
     "execution_count": 52,
     "metadata": {},
     "output_type": "execute_result"
    }
   ],
   "source": [
    "[x.first_name for x in \n",
    " admin_client.get_tenant_admins(LEUPHANA_TENANT_ID, 10, 0).data]"
   ]
  },
  {
   "cell_type": "markdown",
   "id": "8b425dc3",
   "metadata": {},
   "source": [
    "### Add new Telemetry to our Test Device"
   ]
  },
  {
   "cell_type": "code",
   "execution_count": 55,
   "id": "d693c061",
   "metadata": {},
   "outputs": [
    {
     "data": {
      "text/plain": [
       "['latitude',\n",
       " 'longitude',\n",
       " 'temperature',\n",
       " 'speed',\n",
       " 'num_tasks',\n",
       " 'batteryLevel',\n",
       " 'battery']"
      ]
     },
     "execution_count": 55,
     "metadata": {},
     "output_type": "execute_result"
    }
   ],
   "source": [
    "tenant_client.telemetry_controller.get_timeseries_keys_using_get1(\"DEVICE\", ROBO_TOKEN)"
   ]
  },
  {
   "cell_type": "code",
   "execution_count": 64,
   "id": "f04732b2",
   "metadata": {},
   "outputs": [
    {
     "data": {
      "text/plain": [
       "0.0002"
      ]
     },
     "execution_count": 64,
     "metadata": {},
     "output_type": "execute_result"
    }
   ],
   "source": []
  },
  {
   "cell_type": "code",
   "execution_count": 65,
   "id": "d3215faa",
   "metadata": {},
   "outputs": [
    {
     "data": {
      "text/plain": [
       "{'additional_info': {'description': ''},\n",
       " 'asset_profile_id': {'entity_type': 'ASSET_PROFILE',\n",
       "                      'id': '81850a30-5592-11ee-a932-412d54b899cb'},\n",
       " 'asset_profile_name': 'Task',\n",
       " 'created_time': 1694958987865,\n",
       " 'customer_id': {'entity_type': 'CUSTOMER',\n",
       "                 'id': '13814000-1dd2-11b2-8080-808080808080'},\n",
       " 'customer_is_public': False,\n",
       " 'customer_title': None,\n",
       " 'id': {'entity_type': 'ASSET', 'id': 'ff4f7490-5561-11ee-a932-412d54b899cb'},\n",
       " 'label': 'Nächster Transportauftrag für Robi',\n",
       " 'name': 'next_task',\n",
       " 'tenant_id': {'entity_type': 'TENANT',\n",
       "               'id': '796e2850-508c-11ee-a932-412d54b899cb'},\n",
       " 'type': 'Task'}"
      ]
     },
     "execution_count": 65,
     "metadata": {},
     "output_type": "execute_result"
    }
   ],
   "source": [
    "tenant_client.asset_controller.get_asset_info_by_id_using_get(TEST_DEVICE_ID)"
   ]
  },
  {
   "cell_type": "code",
   "execution_count": 66,
   "id": "27d0e89b",
   "metadata": {},
   "outputs": [
    {
     "data": {
      "text/plain": [
       "{'additional_info': {'description': '',\n",
       "                     'gateway': False,\n",
       "                     'overwriteActivityTime': False},\n",
       " 'created_time': 1694725551141,\n",
       " 'customer_id': {'entity_type': 'CUSTOMER',\n",
       "                 'id': '13814000-1dd2-11b2-8080-808080808080'},\n",
       " 'device_data': {'configuration': {'type': 'DEFAULT'},\n",
       "                 'transport_configuration': {'type': 'DEFAULT'}},\n",
       " 'device_profile_id': {'entity_type': 'DEVICE_PROFILE',\n",
       "                       'id': '7975f080-508c-11ee-a932-412d54b899cb'},\n",
       " 'firmware_id': None,\n",
       " 'id': {'entity_type': 'DEVICE', 'id': '7c2e2550-5342-11ee-a932-412d54b899cb'},\n",
       " 'label': 'robot',\n",
       " 'name': 'Robot LL',\n",
       " 'software_id': None,\n",
       " 'tenant_id': {'entity_type': 'TENANT',\n",
       "               'id': '796e2850-508c-11ee-a932-412d54b899cb'},\n",
       " 'type': 'default'}"
      ]
     },
     "execution_count": 66,
     "metadata": {},
     "output_type": "execute_result"
    }
   ],
   "source": [
    "tenant_client.device_controller.get_device_by_id_using_get(ROBO_TOKEN)"
   ]
  },
  {
   "cell_type": "code",
   "execution_count": 46,
   "id": "9547c61a",
   "metadata": {},
   "outputs": [
    {
     "name": "stdout",
     "output_type": "stream",
     "text": [
      "Successfuly sent telemetry\n"
     ]
    }
   ],
   "source": [
    "_ = tenant_client.telemetry_controller.save_entity_telemetry_using_post(\n",
    "    entity_type=\"ASSET\",\n",
    "    entity_id=TEST_DEVICE_ID,\n",
    "    scope=\"a\",\n",
    "    body={\n",
    "        \"longitude\": 10.4034710,\n",
    "        \"latitude\": 53.2280540\n",
    "    }\n",
    ")\n",
    "print(\"Successfuly sent telemetry\")"
   ]
  },
  {
   "cell_type": "code",
   "execution_count": 45,
   "id": "42ca0664",
   "metadata": {},
   "outputs": [
    {
     "name": "stdout",
     "output_type": "stream",
     "text": [
      "Successfuly sent telemetry\n"
     ]
    }
   ],
   "source": [
    "_ = tenant_client.telemetry_controller.save_entity_telemetry_using_post(\n",
    "    entity_type=\"DEVICE\",\n",
    "    entity_id=ROBO_TOKEN,\n",
    "    scope=\"a\",\n",
    "    body={\n",
    "        \"longitude\": 10.4013610,\n",
    "        \"latitude\": 53.2289540,\n",
    "        \"temperature\": 54,\n",
    "    }\n",
    ")\n",
    "print(\"Successfuly sent telemetry\")"
   ]
  },
  {
   "cell_type": "markdown",
   "id": "7e1e52df",
   "metadata": {},
   "source": [
    "### Fetch the latest telemtry of the device. This way, we can track our devices programatically in our scripts"
   ]
  },
  {
   "cell_type": "code",
   "execution_count": 9,
   "id": "92b2009c",
   "metadata": {},
   "outputs": [
    {
     "name": "stdout",
     "output_type": "stream",
     "text": [
      "Latest temeletry is 31 and got posted on 2023-9-17  21:14\n"
     ]
    }
   ],
   "source": [
    "tel = tenant_client.telemetry_controller.get_latest_timeseries_using_get(\"DEVICE\", TEST_DEVICE_ID)\n",
    "timestamp = format_datetime(datetime.fromtimestamp(tel[\"temperature\"][0][\"ts\"]  / 1000))\n",
    "value = tel[\"temperature\"][0][\"value\"]\n",
    "print(\"Latest temeletry is %s and got posted on %s\" % (value, timestamp))"
   ]
  },
  {
   "cell_type": "code",
   "execution_count": null,
   "id": "27895990",
   "metadata": {},
   "outputs": [],
   "source": []
  }
 ],
 "metadata": {
  "kernelspec": {
   "display_name": "Python 3 (ipykernel)",
   "language": "python",
   "name": "python3"
  },
  "language_info": {
   "codemirror_mode": {
    "name": "ipython",
    "version": 3
   },
   "file_extension": ".py",
   "mimetype": "text/x-python",
   "name": "python",
   "nbconvert_exporter": "python",
   "pygments_lexer": "ipython3",
   "version": "3.11.5"
  }
 },
 "nbformat": 4,
 "nbformat_minor": 5
}
